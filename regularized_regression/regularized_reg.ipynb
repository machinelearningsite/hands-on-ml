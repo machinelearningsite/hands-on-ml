{
 "cells": [
  {
   "cell_type": "code",
   "execution_count": 5,
   "metadata": {},
   "outputs": [
    {
     "name": "stdout",
     "output_type": "stream",
     "text": [
      "Ridge Regression Coefficients: [59.87954432 97.15091098 63.24364738 56.31999433 35.34591136]\n",
      "Model Score: 0.9997951390892165\n"
     ]
    }
   ],
   "source": [
    "from sklearn.linear_model import Ridge\n",
    "from sklearn.model_selection import train_test_split\n",
    "from sklearn.datasets import make_regression\n",
    "\n",
    "# Generate a synthetic regression dataset\n",
    "X, y = make_regression(n_samples=100, n_features=5, noise=0.1, random_state=42)\n",
    "\n",
    "# Split the dataset\n",
    "X_train, X_test, y_train, y_test = train_test_split(X, y, test_size=0.2, random_state=42)\n",
    "\n",
    "# Apply Ridge Regression\n",
    "ridge = Ridge(alpha=1)  # Alpha is the regularization strength (λ)\n",
    "ridge.fit(X_train, y_train)\n",
    "\n",
    "# Predictions and model score\n",
    "y_pred = ridge.predict(X_test)\n",
    "print(\"Ridge Regression Coefficients:\", ridge.coef_)\n",
    "print(\"Model Score:\", ridge.score(X_test, y_test))"
   ]
  },
  {
   "cell_type": "code",
   "execution_count": 6,
   "metadata": {},
   "outputs": [
    {
     "name": "stdout",
     "output_type": "stream",
     "text": [
      "Lasso Regression Coefficients: [60.50305581 98.52475354 64.3929265  56.96061238 35.52928502]\n",
      "Model Score: 0.999996831795937\n"
     ]
    }
   ],
   "source": [
    "from sklearn.linear_model import Lasso\n",
    "\n",
    "# Apply Lasso Regression\n",
    "lasso = Lasso(alpha=0.1)  # Alpha is the regularization strength (λ)\n",
    "lasso.fit(X_train, y_train)\n",
    "\n",
    "# Predictions and model score\n",
    "y_pred = lasso.predict(X_test)\n",
    "print(\"Lasso Regression Coefficients:\", lasso.coef_)\n",
    "print(\"Model Score:\", lasso.score(X_test, y_test))"
   ]
  },
  {
   "cell_type": "code",
   "execution_count": 7,
   "metadata": {},
   "outputs": [
    {
     "name": "stdout",
     "output_type": "stream",
     "text": [
      "Elastic Net Regression Coefficients: [57.82265466 92.85730675 59.52004537 54.16738219 34.50996407]\n",
      "Model Score: 0.9969562697153884\n"
     ]
    }
   ],
   "source": [
    "from sklearn.linear_model import ElasticNet\n",
    "\n",
    "# Apply Elastic Net Regression\n",
    "elastic_net = ElasticNet(alpha=0.1, l1_ratio=0.5)  # l1_ratio controls the mix of Lasso and Ridge\n",
    "elastic_net.fit(X_train, y_train)\n",
    "\n",
    "# Predictions and model score\n",
    "y_pred = elastic_net.predict(X_test)\n",
    "print(\"Elastic Net Regression Coefficients:\", elastic_net.coef_)\n",
    "print(\"Model Score:\", elastic_net.score(X_test, y_test))"
   ]
  }
 ],
 "metadata": {
  "kernelspec": {
   "display_name": "venv",
   "language": "python",
   "name": "python3"
  },
  "language_info": {
   "codemirror_mode": {
    "name": "ipython",
    "version": 3
   },
   "file_extension": ".py",
   "mimetype": "text/x-python",
   "name": "python",
   "nbconvert_exporter": "python",
   "pygments_lexer": "ipython3",
   "version": "3.10.12"
  }
 },
 "nbformat": 4,
 "nbformat_minor": 2
}
