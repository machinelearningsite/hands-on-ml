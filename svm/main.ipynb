{
 "cells": [
  {
   "cell_type": "code",
   "execution_count": 1,
   "metadata": {},
   "outputs": [],
   "source": [
    "import numpy as np\n",
    "import pandas as pd\n",
    "import matplotlib.pyplot as plt\n",
    "import seaborn as sns"
   ]
  },
  {
   "cell_type": "code",
   "execution_count": 4,
   "metadata": {},
   "outputs": [
    {
     "name": "stdout",
     "output_type": "stream",
     "text": [
      "   sepal_length  sepal_width  petal_length  petal_width      species\n",
      "0           5.1          3.5           1.4          0.2  Iris-setosa\n",
      "1           4.9          3.0           1.4          0.2  Iris-setosa\n",
      "2           4.7          3.2           1.3          0.2  Iris-setosa\n",
      "3           4.6          3.1           1.5          0.2  Iris-setosa\n",
      "4           5.0          3.6           1.4          0.2  Iris-setosa\n",
      "species\n",
      "Iris-setosa        50\n",
      "Iris-versicolor    50\n",
      "Iris-virginica     50\n",
      "Name: count, dtype: int64\n"
     ]
    }
   ],
   "source": [
    "# Import the dataset using Seaborn library\n",
    "data = pd.read_csv('IRIS.csv')\n",
    "\n",
    "print(data.head())\n",
    "print(data[\"species\"].value_counts())"
   ]
  },
  {
   "cell_type": "code",
   "execution_count": 6,
   "metadata": {},
   "outputs": [
    {
     "name": "stdout",
     "output_type": "stream",
     "text": [
      "\n",
      "X_train:\n",
      "target\n",
      "Iris-virginica     35\n",
      "Iris-setosa        35\n",
      "Iris-versicolor    35\n",
      "Name: count, dtype: int64\n",
      "\n",
      "X_test:\n",
      "target\n",
      "Iris-virginica     15\n",
      "Iris-versicolor    15\n",
      "Iris-setosa        15\n",
      "Name: count, dtype: int64\n"
     ]
    }
   ],
   "source": [
    "from sklearn.model_selection import train_test_split\n",
    "\n",
    "# Separating the independent variables from dependent variables\n",
    "X = data.iloc[:,:-1]\n",
    "y = data.iloc[:,4]\n",
    "X_train, X_test, y_train, y_test = train_test_split(X,y,test_size=0.30, stratify=y)\n",
    "\n",
    "X_train['target'] = y_train\n",
    "X_test['target'] = y_test\n",
    "\n",
    "print(\"\\nX_train:\")\n",
    "print(X_train[\"target\"].value_counts())\n",
    "print(\"\\nX_test:\")\n",
    "print(X_test[\"target\"].value_counts())\n",
    "\n",
    "from sklearn.svm import SVC\n",
    "model=SVC()\n",
    "\n",
    "#model.fit(X_train, y_train)"
   ]
  }
 ],
 "metadata": {
  "kernelspec": {
   "display_name": "venv",
   "language": "python",
   "name": "python3"
  },
  "language_info": {
   "codemirror_mode": {
    "name": "ipython",
    "version": 3
   },
   "file_extension": ".py",
   "mimetype": "text/x-python",
   "name": "python",
   "nbconvert_exporter": "python",
   "pygments_lexer": "ipython3",
   "version": "3.10.12"
  }
 },
 "nbformat": 4,
 "nbformat_minor": 2
}
